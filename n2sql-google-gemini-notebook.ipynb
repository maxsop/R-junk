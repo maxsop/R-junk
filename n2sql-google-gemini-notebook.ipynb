{
  "nbformat": 4,
  "nbformat_minor": 0,
  "metadata": {
    "colab": {
      "provenance": [],
      "collapsed_sections": [
        "J62Ed6jNukYW",
        "YKHL6-D5uoBT",
        "i6Nu9YMGupE_",
        "Hk9ttrymuqs3",
        "SW4mMVLhusW9",
        "CHgH7IzeuuIq",
        "ChHFW26RrnSv",
        "D_x7H1Zarp_c",
        "hqs9W479ryDx"
      ],
      "include_colab_link": true
    },
    "kernelspec": {
      "name": "python3",
      "display_name": "Python 3"
    },
    "language_info": {
      "name": "python"
    }
  },
  "cells": [
    {
      "cell_type": "markdown",
      "metadata": {
        "id": "view-in-github",
        "colab_type": "text"
      },
      "source": [
        "<a href=\"https://colab.research.google.com/github/maxsop/R-junk/blob/master/n2sql-google-gemini-notebook.ipynb\" target=\"_parent\"><img src=\"https://colab.research.google.com/assets/colab-badge.svg\" alt=\"Open In Colab\"/></a>"
      ]
    },
    {
      "cell_type": "markdown",
      "source": [
        "## Natural Language to SQL using Google's Gemini Pro"
      ],
      "metadata": {
        "id": "g1va5YGucMBr"
      }
    },
    {
      "cell_type": "markdown",
      "source": [
        "<a href=\"https://colab.research.google.com/github/bhattbhavesh91/n2sql-google-gemini/blob/main/n2sql-google-gemini-notebook.ipynb\" target=\"_blank\"><img height=\"40\" alt=\"Run your own notebook in Colab\" src = \"https://colab.research.google.com/assets/colab-badge.svg\"></a>"
      ],
      "metadata": {
        "id": "ZpFI4r4VcRsN"
      }
    },
    {
      "cell_type": "markdown",
      "source": [
        "# Installation"
      ],
      "metadata": {
        "id": "J62Ed6jNukYW"
      }
    },
    {
      "cell_type": "code",
      "source": [
        "!pip install -q google-generativeai==0.3.1"
      ],
      "metadata": {
        "id": "CmIAwGt-ko5i",
        "outputId": "51c7b465-0915-4d2d-d845-dd0e42b39347",
        "colab": {
          "base_uri": "https://localhost:8080/"
        }
      },
      "execution_count": 1,
      "outputs": [
        {
          "output_type": "stream",
          "name": "stdout",
          "text": [
            "\u001b[?25l   \u001b[90m━━━━━━━━━━━━━━━━━━━━━━━━━━━━━━━━━━━━━━━━\u001b[0m \u001b[32m0.0/146.6 kB\u001b[0m \u001b[31m?\u001b[0m eta \u001b[36m-:--:--\u001b[0m\r\u001b[2K   \u001b[91m━━━━━━━━━━━━━━━━━━━━━━\u001b[0m\u001b[90m╺\u001b[0m\u001b[90m━━━━━━━━━━━━━━━━━\u001b[0m \u001b[32m81.9/146.6 kB\u001b[0m \u001b[31m2.2 MB/s\u001b[0m eta \u001b[36m0:00:01\u001b[0m\r\u001b[2K   \u001b[90m━━━━━━━━━━━━━━━━━━━━━━━━━━━━━━━━━━━━━━━━\u001b[0m \u001b[32m146.6/146.6 kB\u001b[0m \u001b[31m2.1 MB/s\u001b[0m eta \u001b[36m0:00:00\u001b[0m\n",
            "\u001b[?25h\u001b[?25l   \u001b[90m━━━━━━━━━━━━━━━━━━━━━━━━━━━━━━━━━━━━━━━━\u001b[0m \u001b[32m0.0/598.7 kB\u001b[0m \u001b[31m?\u001b[0m eta \u001b[36m-:--:--\u001b[0m\r\u001b[2K   \u001b[91m━━━━━━━━━━━━━━━━━━━━━━━━━━━━━━━━━━━━━━━\u001b[0m\u001b[91m╸\u001b[0m \u001b[32m593.9/598.7 kB\u001b[0m \u001b[31m22.1 MB/s\u001b[0m eta \u001b[36m0:00:01\u001b[0m\r\u001b[2K   \u001b[90m━━━━━━━━━━━━━━━━━━━━━━━━━━━━━━━━━━━━━━━━\u001b[0m \u001b[32m598.7/598.7 kB\u001b[0m \u001b[31m12.2 MB/s\u001b[0m eta \u001b[36m0:00:00\u001b[0m\n",
            "\u001b[?25h"
          ]
        }
      ]
    },
    {
      "cell_type": "markdown",
      "source": [
        "# Imports"
      ],
      "metadata": {
        "id": "YKHL6-D5uoBT"
      }
    },
    {
      "cell_type": "code",
      "source": [
        "import google.generativeai as genai\n",
        "from pathlib import Path\n",
        "import sqlite3\n",
        "import pandas as pd"
      ],
      "metadata": {
        "id": "Ad7x23Khq65P"
      },
      "execution_count": 19,
      "outputs": []
    },
    {
      "cell_type": "markdown",
      "source": [
        "# Version"
      ],
      "metadata": {
        "id": "i6Nu9YMGupE_"
      }
    },
    {
      "cell_type": "code",
      "source": [
        "genai.__version__"
      ],
      "metadata": {
        "id": "HFVBV3vAqUQS",
        "colab": {
          "base_uri": "https://localhost:8080/",
          "height": 35
        },
        "outputId": "49951a14-f6b3-4f02-fa58-2a6ea4fc71f7"
      },
      "execution_count": 15,
      "outputs": [
        {
          "output_type": "execute_result",
          "data": {
            "text/plain": [
              "'0.3.1'"
            ],
            "application/vnd.google.colaboratory.intrinsic+json": {
              "type": "string"
            }
          },
          "metadata": {},
          "execution_count": 15
        }
      ]
    },
    {
      "cell_type": "markdown",
      "source": [
        "# Secret Key"
      ],
      "metadata": {
        "id": "Hk9ttrymuqs3"
      }
    },
    {
      "cell_type": "code",
      "source": [
        "from google.colab import userdata\n",
        "\n",
        "genai.configure(api_key = userdata.get('GEMINI_KEY'))"
      ],
      "metadata": {
        "id": "Hiho5AC_l-rl"
      },
      "execution_count": 5,
      "outputs": []
    },
    {
      "cell_type": "markdown",
      "source": [
        "# Configurations"
      ],
      "metadata": {
        "id": "SW4mMVLhusW9"
      }
    },
    {
      "cell_type": "code",
      "source": [
        "# Set up the model\n",
        "generation_config = {\n",
        "  \"temperature\": 0.4,\n",
        "  \"top_p\": 1,\n",
        "  \"top_k\": 32,\n",
        "  \"max_output_tokens\": 4096,\n",
        "}\n",
        "\n",
        "safety_settings = [\n",
        "  {\n",
        "    \"category\": \"HARM_CATEGORY_HARASSMENT\",\n",
        "    \"threshold\": \"BLOCK_MEDIUM_AND_ABOVE\"\n",
        "  },\n",
        "  {\n",
        "    \"category\": \"HARM_CATEGORY_HATE_SPEECH\",\n",
        "    \"threshold\": \"BLOCK_MEDIUM_AND_ABOVE\"\n",
        "  },\n",
        "  {\n",
        "    \"category\": \"HARM_CATEGORY_SEXUALLY_EXPLICIT\",\n",
        "    \"threshold\": \"BLOCK_MEDIUM_AND_ABOVE\"\n",
        "  },\n",
        "  {\n",
        "    \"category\": \"HARM_CATEGORY_DANGEROUS_CONTENT\",\n",
        "    \"threshold\": \"BLOCK_MEDIUM_AND_ABOVE\"\n",
        "  }\n",
        "]"
      ],
      "metadata": {
        "id": "ZJr0xFY0Yosd"
      },
      "execution_count": 14,
      "outputs": []
    },
    {
      "cell_type": "markdown",
      "source": [
        "# Model Instance"
      ],
      "metadata": {
        "id": "CHgH7IzeuuIq"
      }
    },
    {
      "cell_type": "code",
      "source": [
        "model = genai.GenerativeModel(model_name = \"gemini-pro\",\n",
        "                              generation_config = generation_config,\n",
        "                              safety_settings = safety_settings)"
      ],
      "metadata": {
        "id": "TcTI_tbDmQc-"
      },
      "execution_count": 7,
      "outputs": []
    },
    {
      "cell_type": "markdown",
      "source": [
        "# Convert pandas to sql db"
      ],
      "metadata": {
        "id": "VnxHz2T9isnZ"
      }
    },
    {
      "cell_type": "code",
      "source": [
        "df = pd.read_csv(\"archive.zip\")\n",
        "df.head()"
      ],
      "metadata": {
        "id": "YTXRBtjpi4i2",
        "outputId": "1c81e653-856c-4338-e186-3a774cad3215",
        "colab": {
          "base_uri": "https://localhost:8080/",
          "height": 602
        }
      },
      "execution_count": 45,
      "outputs": [
        {
          "output_type": "execute_result",
          "data": {
            "text/plain": [
              "   index                                                url  \\\n",
              "0      0  https://www.adidas.com/us/beach-shorts/FJ5089....   \n",
              "1      1  https://www.adidas.com/us/five-ten-kestrel-lac...   \n",
              "2      2  https://www.adidas.com/us/mexico-away-jersey/G...   \n",
              "3      3  https://www.adidas.com/us/five-ten-hiangle-pro...   \n",
              "4      4  https://www.adidas.com/us/mesh-broken-stripe-p...   \n",
              "\n",
              "                                              name     sku  selling_price  \\\n",
              "0                                     Beach Shorts  FJ5089             40   \n",
              "1        Five Ten Kestrel Lace Mountain Bike Shoes  BC0770            150   \n",
              "2                               Mexico Away Jersey  GC7946             70   \n",
              "3  Five Ten Hiangle Pro Competition Climbing Shoes  FV4744            160   \n",
              "4                    Mesh Broken-Stripe Polo Shirt  GM0239             65   \n",
              "\n",
              "  original_price currency availability  color  category  ...  \\\n",
              "0            NaN      USD      InStock  Black  Clothing  ...   \n",
              "1            NaN      USD      InStock   Grey     Shoes  ...   \n",
              "2            NaN      USD      InStock  White  Clothing  ...   \n",
              "3            NaN      USD      InStock  Black     Shoes  ...   \n",
              "4            NaN      USD      InStock   Blue  Clothing  ...   \n",
              "\n",
              "           source_website     breadcrumbs  \\\n",
              "0  https://www.adidas.com  Women/Clothing   \n",
              "1  https://www.adidas.com     Women/Shoes   \n",
              "2  https://www.adidas.com   Kids/Clothing   \n",
              "3  https://www.adidas.com  Five Ten/Shoes   \n",
              "4  https://www.adidas.com    Men/Clothing   \n",
              "\n",
              "                                         description   brand  \\\n",
              "0  Splashing in the surf. Making memories with yo...  adidas   \n",
              "1  Lace up and get after it. The Five Ten Kestrel...  adidas   \n",
              "2  Clean and crisp, this adidas Mexico Away Jerse...  adidas   \n",
              "3  The Hiangle Pro takes on the classic shape of ...  adidas   \n",
              "4  Step up to the tee relaxed. This adidas golf p...  adidas   \n",
              "\n",
              "                                              images country language  \\\n",
              "0  https://assets.adidas.com/images/w_600,f_auto,...     USA       en   \n",
              "1  https://assets.adidas.com/images/w_600,f_auto,...     USA       en   \n",
              "2  https://assets.adidas.com/images/w_600,f_auto,...     USA       en   \n",
              "3  https://assets.adidas.com/images/w_600,f_auto,...     USA       en   \n",
              "4  https://assets.adidas.com/images/w_600,f_auto,...     USA       en   \n",
              "\n",
              "  average_rating  reviews_count                  crawled_at  \n",
              "0            4.5             35  2021-10-23 17:50:17.331255  \n",
              "1            4.8              4  2021-10-23 17:50:17.423830  \n",
              "2            4.9             42  2021-10-23 17:50:17.530834  \n",
              "3            3.7              7  2021-10-23 17:50:17.615054  \n",
              "4            4.7             11  2021-10-23 17:50:17.702680  \n",
              "\n",
              "[5 rows x 21 columns]"
            ],
            "text/html": [
              "\n",
              "  <div id=\"df-f23453cf-5e89-4583-adde-27410e3582e7\" class=\"colab-df-container\">\n",
              "    <div>\n",
              "<style scoped>\n",
              "    .dataframe tbody tr th:only-of-type {\n",
              "        vertical-align: middle;\n",
              "    }\n",
              "\n",
              "    .dataframe tbody tr th {\n",
              "        vertical-align: top;\n",
              "    }\n",
              "\n",
              "    .dataframe thead th {\n",
              "        text-align: right;\n",
              "    }\n",
              "</style>\n",
              "<table border=\"1\" class=\"dataframe\">\n",
              "  <thead>\n",
              "    <tr style=\"text-align: right;\">\n",
              "      <th></th>\n",
              "      <th>index</th>\n",
              "      <th>url</th>\n",
              "      <th>name</th>\n",
              "      <th>sku</th>\n",
              "      <th>selling_price</th>\n",
              "      <th>original_price</th>\n",
              "      <th>currency</th>\n",
              "      <th>availability</th>\n",
              "      <th>color</th>\n",
              "      <th>category</th>\n",
              "      <th>...</th>\n",
              "      <th>source_website</th>\n",
              "      <th>breadcrumbs</th>\n",
              "      <th>description</th>\n",
              "      <th>brand</th>\n",
              "      <th>images</th>\n",
              "      <th>country</th>\n",
              "      <th>language</th>\n",
              "      <th>average_rating</th>\n",
              "      <th>reviews_count</th>\n",
              "      <th>crawled_at</th>\n",
              "    </tr>\n",
              "  </thead>\n",
              "  <tbody>\n",
              "    <tr>\n",
              "      <th>0</th>\n",
              "      <td>0</td>\n",
              "      <td>https://www.adidas.com/us/beach-shorts/FJ5089....</td>\n",
              "      <td>Beach Shorts</td>\n",
              "      <td>FJ5089</td>\n",
              "      <td>40</td>\n",
              "      <td>NaN</td>\n",
              "      <td>USD</td>\n",
              "      <td>InStock</td>\n",
              "      <td>Black</td>\n",
              "      <td>Clothing</td>\n",
              "      <td>...</td>\n",
              "      <td>https://www.adidas.com</td>\n",
              "      <td>Women/Clothing</td>\n",
              "      <td>Splashing in the surf. Making memories with yo...</td>\n",
              "      <td>adidas</td>\n",
              "      <td>https://assets.adidas.com/images/w_600,f_auto,...</td>\n",
              "      <td>USA</td>\n",
              "      <td>en</td>\n",
              "      <td>4.5</td>\n",
              "      <td>35</td>\n",
              "      <td>2021-10-23 17:50:17.331255</td>\n",
              "    </tr>\n",
              "    <tr>\n",
              "      <th>1</th>\n",
              "      <td>1</td>\n",
              "      <td>https://www.adidas.com/us/five-ten-kestrel-lac...</td>\n",
              "      <td>Five Ten Kestrel Lace Mountain Bike Shoes</td>\n",
              "      <td>BC0770</td>\n",
              "      <td>150</td>\n",
              "      <td>NaN</td>\n",
              "      <td>USD</td>\n",
              "      <td>InStock</td>\n",
              "      <td>Grey</td>\n",
              "      <td>Shoes</td>\n",
              "      <td>...</td>\n",
              "      <td>https://www.adidas.com</td>\n",
              "      <td>Women/Shoes</td>\n",
              "      <td>Lace up and get after it. The Five Ten Kestrel...</td>\n",
              "      <td>adidas</td>\n",
              "      <td>https://assets.adidas.com/images/w_600,f_auto,...</td>\n",
              "      <td>USA</td>\n",
              "      <td>en</td>\n",
              "      <td>4.8</td>\n",
              "      <td>4</td>\n",
              "      <td>2021-10-23 17:50:17.423830</td>\n",
              "    </tr>\n",
              "    <tr>\n",
              "      <th>2</th>\n",
              "      <td>2</td>\n",
              "      <td>https://www.adidas.com/us/mexico-away-jersey/G...</td>\n",
              "      <td>Mexico Away Jersey</td>\n",
              "      <td>GC7946</td>\n",
              "      <td>70</td>\n",
              "      <td>NaN</td>\n",
              "      <td>USD</td>\n",
              "      <td>InStock</td>\n",
              "      <td>White</td>\n",
              "      <td>Clothing</td>\n",
              "      <td>...</td>\n",
              "      <td>https://www.adidas.com</td>\n",
              "      <td>Kids/Clothing</td>\n",
              "      <td>Clean and crisp, this adidas Mexico Away Jerse...</td>\n",
              "      <td>adidas</td>\n",
              "      <td>https://assets.adidas.com/images/w_600,f_auto,...</td>\n",
              "      <td>USA</td>\n",
              "      <td>en</td>\n",
              "      <td>4.9</td>\n",
              "      <td>42</td>\n",
              "      <td>2021-10-23 17:50:17.530834</td>\n",
              "    </tr>\n",
              "    <tr>\n",
              "      <th>3</th>\n",
              "      <td>3</td>\n",
              "      <td>https://www.adidas.com/us/five-ten-hiangle-pro...</td>\n",
              "      <td>Five Ten Hiangle Pro Competition Climbing Shoes</td>\n",
              "      <td>FV4744</td>\n",
              "      <td>160</td>\n",
              "      <td>NaN</td>\n",
              "      <td>USD</td>\n",
              "      <td>InStock</td>\n",
              "      <td>Black</td>\n",
              "      <td>Shoes</td>\n",
              "      <td>...</td>\n",
              "      <td>https://www.adidas.com</td>\n",
              "      <td>Five Ten/Shoes</td>\n",
              "      <td>The Hiangle Pro takes on the classic shape of ...</td>\n",
              "      <td>adidas</td>\n",
              "      <td>https://assets.adidas.com/images/w_600,f_auto,...</td>\n",
              "      <td>USA</td>\n",
              "      <td>en</td>\n",
              "      <td>3.7</td>\n",
              "      <td>7</td>\n",
              "      <td>2021-10-23 17:50:17.615054</td>\n",
              "    </tr>\n",
              "    <tr>\n",
              "      <th>4</th>\n",
              "      <td>4</td>\n",
              "      <td>https://www.adidas.com/us/mesh-broken-stripe-p...</td>\n",
              "      <td>Mesh Broken-Stripe Polo Shirt</td>\n",
              "      <td>GM0239</td>\n",
              "      <td>65</td>\n",
              "      <td>NaN</td>\n",
              "      <td>USD</td>\n",
              "      <td>InStock</td>\n",
              "      <td>Blue</td>\n",
              "      <td>Clothing</td>\n",
              "      <td>...</td>\n",
              "      <td>https://www.adidas.com</td>\n",
              "      <td>Men/Clothing</td>\n",
              "      <td>Step up to the tee relaxed. This adidas golf p...</td>\n",
              "      <td>adidas</td>\n",
              "      <td>https://assets.adidas.com/images/w_600,f_auto,...</td>\n",
              "      <td>USA</td>\n",
              "      <td>en</td>\n",
              "      <td>4.7</td>\n",
              "      <td>11</td>\n",
              "      <td>2021-10-23 17:50:17.702680</td>\n",
              "    </tr>\n",
              "  </tbody>\n",
              "</table>\n",
              "<p>5 rows × 21 columns</p>\n",
              "</div>\n",
              "    <div class=\"colab-df-buttons\">\n",
              "\n",
              "  <div class=\"colab-df-container\">\n",
              "    <button class=\"colab-df-convert\" onclick=\"convertToInteractive('df-f23453cf-5e89-4583-adde-27410e3582e7')\"\n",
              "            title=\"Convert this dataframe to an interactive table.\"\n",
              "            style=\"display:none;\">\n",
              "\n",
              "  <svg xmlns=\"http://www.w3.org/2000/svg\" height=\"24px\" viewBox=\"0 -960 960 960\">\n",
              "    <path d=\"M120-120v-720h720v720H120Zm60-500h600v-160H180v160Zm220 220h160v-160H400v160Zm0 220h160v-160H400v160ZM180-400h160v-160H180v160Zm440 0h160v-160H620v160ZM180-180h160v-160H180v160Zm440 0h160v-160H620v160Z\"/>\n",
              "  </svg>\n",
              "    </button>\n",
              "\n",
              "  <style>\n",
              "    .colab-df-container {\n",
              "      display:flex;\n",
              "      gap: 12px;\n",
              "    }\n",
              "\n",
              "    .colab-df-convert {\n",
              "      background-color: #E8F0FE;\n",
              "      border: none;\n",
              "      border-radius: 50%;\n",
              "      cursor: pointer;\n",
              "      display: none;\n",
              "      fill: #1967D2;\n",
              "      height: 32px;\n",
              "      padding: 0 0 0 0;\n",
              "      width: 32px;\n",
              "    }\n",
              "\n",
              "    .colab-df-convert:hover {\n",
              "      background-color: #E2EBFA;\n",
              "      box-shadow: 0px 1px 2px rgba(60, 64, 67, 0.3), 0px 1px 3px 1px rgba(60, 64, 67, 0.15);\n",
              "      fill: #174EA6;\n",
              "    }\n",
              "\n",
              "    .colab-df-buttons div {\n",
              "      margin-bottom: 4px;\n",
              "    }\n",
              "\n",
              "    [theme=dark] .colab-df-convert {\n",
              "      background-color: #3B4455;\n",
              "      fill: #D2E3FC;\n",
              "    }\n",
              "\n",
              "    [theme=dark] .colab-df-convert:hover {\n",
              "      background-color: #434B5C;\n",
              "      box-shadow: 0px 1px 3px 1px rgba(0, 0, 0, 0.15);\n",
              "      filter: drop-shadow(0px 1px 2px rgba(0, 0, 0, 0.3));\n",
              "      fill: #FFFFFF;\n",
              "    }\n",
              "  </style>\n",
              "\n",
              "    <script>\n",
              "      const buttonEl =\n",
              "        document.querySelector('#df-f23453cf-5e89-4583-adde-27410e3582e7 button.colab-df-convert');\n",
              "      buttonEl.style.display =\n",
              "        google.colab.kernel.accessAllowed ? 'block' : 'none';\n",
              "\n",
              "      async function convertToInteractive(key) {\n",
              "        const element = document.querySelector('#df-f23453cf-5e89-4583-adde-27410e3582e7');\n",
              "        const dataTable =\n",
              "          await google.colab.kernel.invokeFunction('convertToInteractive',\n",
              "                                                    [key], {});\n",
              "        if (!dataTable) return;\n",
              "\n",
              "        const docLinkHtml = 'Like what you see? Visit the ' +\n",
              "          '<a target=\"_blank\" href=https://colab.research.google.com/notebooks/data_table.ipynb>data table notebook</a>'\n",
              "          + ' to learn more about interactive tables.';\n",
              "        element.innerHTML = '';\n",
              "        dataTable['output_type'] = 'display_data';\n",
              "        await google.colab.output.renderOutput(dataTable, element);\n",
              "        const docLink = document.createElement('div');\n",
              "        docLink.innerHTML = docLinkHtml;\n",
              "        element.appendChild(docLink);\n",
              "      }\n",
              "    </script>\n",
              "  </div>\n",
              "\n",
              "\n",
              "<div id=\"df-86226d91-e252-48cc-b0bf-458c3c7530f6\">\n",
              "  <button class=\"colab-df-quickchart\" onclick=\"quickchart('df-86226d91-e252-48cc-b0bf-458c3c7530f6')\"\n",
              "            title=\"Suggest charts\"\n",
              "            style=\"display:none;\">\n",
              "\n",
              "<svg xmlns=\"http://www.w3.org/2000/svg\" height=\"24px\"viewBox=\"0 0 24 24\"\n",
              "     width=\"24px\">\n",
              "    <g>\n",
              "        <path d=\"M19 3H5c-1.1 0-2 .9-2 2v14c0 1.1.9 2 2 2h14c1.1 0 2-.9 2-2V5c0-1.1-.9-2-2-2zM9 17H7v-7h2v7zm4 0h-2V7h2v10zm4 0h-2v-4h2v4z\"/>\n",
              "    </g>\n",
              "</svg>\n",
              "  </button>\n",
              "\n",
              "<style>\n",
              "  .colab-df-quickchart {\n",
              "      --bg-color: #E8F0FE;\n",
              "      --fill-color: #1967D2;\n",
              "      --hover-bg-color: #E2EBFA;\n",
              "      --hover-fill-color: #174EA6;\n",
              "      --disabled-fill-color: #AAA;\n",
              "      --disabled-bg-color: #DDD;\n",
              "  }\n",
              "\n",
              "  [theme=dark] .colab-df-quickchart {\n",
              "      --bg-color: #3B4455;\n",
              "      --fill-color: #D2E3FC;\n",
              "      --hover-bg-color: #434B5C;\n",
              "      --hover-fill-color: #FFFFFF;\n",
              "      --disabled-bg-color: #3B4455;\n",
              "      --disabled-fill-color: #666;\n",
              "  }\n",
              "\n",
              "  .colab-df-quickchart {\n",
              "    background-color: var(--bg-color);\n",
              "    border: none;\n",
              "    border-radius: 50%;\n",
              "    cursor: pointer;\n",
              "    display: none;\n",
              "    fill: var(--fill-color);\n",
              "    height: 32px;\n",
              "    padding: 0;\n",
              "    width: 32px;\n",
              "  }\n",
              "\n",
              "  .colab-df-quickchart:hover {\n",
              "    background-color: var(--hover-bg-color);\n",
              "    box-shadow: 0 1px 2px rgba(60, 64, 67, 0.3), 0 1px 3px 1px rgba(60, 64, 67, 0.15);\n",
              "    fill: var(--button-hover-fill-color);\n",
              "  }\n",
              "\n",
              "  .colab-df-quickchart-complete:disabled,\n",
              "  .colab-df-quickchart-complete:disabled:hover {\n",
              "    background-color: var(--disabled-bg-color);\n",
              "    fill: var(--disabled-fill-color);\n",
              "    box-shadow: none;\n",
              "  }\n",
              "\n",
              "  .colab-df-spinner {\n",
              "    border: 2px solid var(--fill-color);\n",
              "    border-color: transparent;\n",
              "    border-bottom-color: var(--fill-color);\n",
              "    animation:\n",
              "      spin 1s steps(1) infinite;\n",
              "  }\n",
              "\n",
              "  @keyframes spin {\n",
              "    0% {\n",
              "      border-color: transparent;\n",
              "      border-bottom-color: var(--fill-color);\n",
              "      border-left-color: var(--fill-color);\n",
              "    }\n",
              "    20% {\n",
              "      border-color: transparent;\n",
              "      border-left-color: var(--fill-color);\n",
              "      border-top-color: var(--fill-color);\n",
              "    }\n",
              "    30% {\n",
              "      border-color: transparent;\n",
              "      border-left-color: var(--fill-color);\n",
              "      border-top-color: var(--fill-color);\n",
              "      border-right-color: var(--fill-color);\n",
              "    }\n",
              "    40% {\n",
              "      border-color: transparent;\n",
              "      border-right-color: var(--fill-color);\n",
              "      border-top-color: var(--fill-color);\n",
              "    }\n",
              "    60% {\n",
              "      border-color: transparent;\n",
              "      border-right-color: var(--fill-color);\n",
              "    }\n",
              "    80% {\n",
              "      border-color: transparent;\n",
              "      border-right-color: var(--fill-color);\n",
              "      border-bottom-color: var(--fill-color);\n",
              "    }\n",
              "    90% {\n",
              "      border-color: transparent;\n",
              "      border-bottom-color: var(--fill-color);\n",
              "    }\n",
              "  }\n",
              "</style>\n",
              "\n",
              "  <script>\n",
              "    async function quickchart(key) {\n",
              "      const quickchartButtonEl =\n",
              "        document.querySelector('#' + key + ' button');\n",
              "      quickchartButtonEl.disabled = true;  // To prevent multiple clicks.\n",
              "      quickchartButtonEl.classList.add('colab-df-spinner');\n",
              "      try {\n",
              "        const charts = await google.colab.kernel.invokeFunction(\n",
              "            'suggestCharts', [key], {});\n",
              "      } catch (error) {\n",
              "        console.error('Error during call to suggestCharts:', error);\n",
              "      }\n",
              "      quickchartButtonEl.classList.remove('colab-df-spinner');\n",
              "      quickchartButtonEl.classList.add('colab-df-quickchart-complete');\n",
              "    }\n",
              "    (() => {\n",
              "      let quickchartButtonEl =\n",
              "        document.querySelector('#df-86226d91-e252-48cc-b0bf-458c3c7530f6 button');\n",
              "      quickchartButtonEl.style.display =\n",
              "        google.colab.kernel.accessAllowed ? 'block' : 'none';\n",
              "    })();\n",
              "  </script>\n",
              "</div>\n",
              "\n",
              "    </div>\n",
              "  </div>\n"
            ],
            "application/vnd.google.colaboratory.intrinsic+json": {
              "type": "dataframe",
              "variable_name": "df"
            }
          },
          "metadata": {},
          "execution_count": 45
        }
      ]
    },
    {
      "cell_type": "code",
      "source": [
        "df.shape"
      ],
      "metadata": {
        "id": "W-GPK7P7j0eU",
        "outputId": "05f80f3f-4561-4bc7-81f8-937344731260",
        "colab": {
          "base_uri": "https://localhost:8080/"
        }
      },
      "execution_count": 27,
      "outputs": [
        {
          "output_type": "execute_result",
          "data": {
            "text/plain": [
              "(845, 21)"
            ]
          },
          "metadata": {},
          "execution_count": 27
        }
      ]
    },
    {
      "cell_type": "code",
      "source": [
        "df.columns"
      ],
      "metadata": {
        "id": "-pK9rpNlkRoN",
        "outputId": "2fa57f1f-e523-4fab-ba44-34706170cb85",
        "colab": {
          "base_uri": "https://localhost:8080/"
        }
      },
      "execution_count": 31,
      "outputs": [
        {
          "output_type": "execute_result",
          "data": {
            "text/plain": [
              "Index(['index', 'url', 'name', 'sku', 'selling_price', 'original_price',\n",
              "       'currency', 'availability', 'color', 'category', 'source',\n",
              "       'source_website', 'breadcrumbs', 'description', 'brand', 'images',\n",
              "       'country', 'language', 'average_rating', 'reviews_count', 'crawled_at'],\n",
              "      dtype='object')"
            ]
          },
          "metadata": {},
          "execution_count": 31
        }
      ]
    },
    {
      "cell_type": "code",
      "source": [
        "df_usd = df[(df['currency'] == 'USD') & (df['selling_price'] > 0) & (df['language'] == 'en')]\n",
        "df_usd.shape\n",
        "df.shape"
      ],
      "metadata": {
        "id": "LrAjG7YPlIRZ",
        "outputId": "b429aa62-83e8-4f12-eca7-515678799d9b",
        "colab": {
          "base_uri": "https://localhost:8080/"
        }
      },
      "execution_count": 46,
      "outputs": [
        {
          "output_type": "execute_result",
          "data": {
            "text/plain": [
              "(845, 21)"
            ]
          },
          "metadata": {},
          "execution_count": 46
        }
      ]
    },
    {
      "cell_type": "code",
      "source": [
        "df = df.drop(columns=['index','url', 'sku', 'crawled_at','original_price','images'], axis=1)"
      ],
      "metadata": {
        "id": "BRL4u1IVk0dY"
      },
      "execution_count": 47,
      "outputs": []
    },
    {
      "cell_type": "code",
      "source": [
        "df.shape"
      ],
      "metadata": {
        "id": "yhe-17hAlelE",
        "outputId": "32780684-1c25-4573-f4b2-952fb5e949bd",
        "colab": {
          "base_uri": "https://localhost:8080/"
        }
      },
      "execution_count": 35,
      "outputs": [
        {
          "output_type": "execute_result",
          "data": {
            "text/plain": [
              "(845, 17)"
            ]
          },
          "metadata": {},
          "execution_count": 35
        }
      ]
    },
    {
      "cell_type": "code",
      "source": [
        "# Rename columns\n",
        "df = df.rename(columns={\n",
        "    'name': 'product_name',\n",
        "    'selling_price': 'price',\n",
        "    'brand': 'brand_name',\n",
        "    'description': 'product_desc',\n",
        "    'category': 'category_name'\n",
        "})\n",
        "df.columns\n"
      ],
      "metadata": {
        "id": "BOS21PqxotPJ",
        "outputId": "8abbf1be-dad2-44d4-aeff-ff6f0b229936",
        "colab": {
          "base_uri": "https://localhost:8080/"
        }
      },
      "execution_count": 48,
      "outputs": [
        {
          "output_type": "execute_result",
          "data": {
            "text/plain": [
              "Index(['product_name', 'price', 'currency', 'availability', 'color',\n",
              "       'category_name', 'source', 'source_website', 'breadcrumbs',\n",
              "       'product_desc', 'brand_name', 'country', 'language', 'average_rating',\n",
              "       'reviews_count'],\n",
              "      dtype='object')"
            ]
          },
          "metadata": {},
          "execution_count": 48
        }
      ]
    },
    {
      "cell_type": "code",
      "source": [
        "conn = sqlite3.connect('fashion_db.sqlite')\n",
        "c = conn.cursor()\n",
        "\n",
        "c.execute('CREATE TABLE IF NOT EXISTS fashion_products (product_name text, brand_name text, category text, price int, rating float, color text, product_desc text, country text, reviews_count int, source text)')\n",
        "conn.commit()\n",
        "\n",
        "df.to_sql('fashion_products', conn, if_exists='replace', index = False)\n"
      ],
      "metadata": {
        "id": "xBV7iYQOjTLw",
        "outputId": "8899ab04-2b7d-4efe-c61d-1b529586211d",
        "colab": {
          "base_uri": "https://localhost:8080/"
        }
      },
      "execution_count": 51,
      "outputs": [
        {
          "output_type": "execute_result",
          "data": {
            "text/plain": [
              "845"
            ]
          },
          "metadata": {},
          "execution_count": 51
        }
      ]
    },
    {
      "cell_type": "code",
      "source": [
        "c.execute('''\n",
        "SELECT product_name FROM fashion_products LIMIT 10\n",
        "          ''')\n",
        "\n",
        "for row in c.fetchall():\n",
        "    print (row)\n",
        "c.close()"
      ],
      "metadata": {
        "id": "ud7Tu5yPrBNG",
        "outputId": "e53e4e5e-ccbd-4416-8974-0541fa62f78d",
        "colab": {
          "base_uri": "https://localhost:8080/"
        }
      },
      "execution_count": 53,
      "outputs": [
        {
          "output_type": "stream",
          "name": "stdout",
          "text": [
            "('Beach Shorts',)\n",
            "('Five Ten Kestrel Lace Mountain Bike Shoes',)\n",
            "('Mexico Away Jersey',)\n",
            "('Five Ten Hiangle Pro Competition Climbing Shoes',)\n",
            "('Mesh Broken-Stripe Polo Shirt',)\n",
            "('EQT Spikeless Golf Shoes',)\n",
            "('Adicross Hybrid Shorts',)\n",
            "('Tiro 21 Windbreaker',)\n",
            "('Classic 3-Stripes Swimsuit',)\n",
            "('Tiro 21 Windbreaker',)\n"
          ]
        }
      ]
    },
    {
      "cell_type": "markdown",
      "source": [
        "# SQL Query Executor"
      ],
      "metadata": {
        "id": "ChHFW26RrnSv"
      }
    },
    {
      "cell_type": "code",
      "source": [
        "def read_sql_query(sql, db):\n",
        "    conn = sqlite3.connect(db)\n",
        "    cur = conn.cursor()\n",
        "    cur.execute(sql)\n",
        "    rows = cur.fetchall()\n",
        "    for row in rows:\n",
        "        print(row)\n",
        "    conn.close()"
      ],
      "metadata": {
        "id": "kkmqIjJw67fn"
      },
      "execution_count": 8,
      "outputs": []
    },
    {
      "cell_type": "code",
      "source": [
        "def get_row_count(db_name):\n",
        "    \"\"\"Generates SQL query to find total number of rows in a database table.\n",
        "\n",
        "    Args:\n",
        "        db_name: Name of the SQLite database file.\n",
        "\n",
        "    Returns:\n",
        "        SQL query as a string.\n",
        "    \"\"\"\n",
        "\n",
        "    return \"SELECT COUNT(*) FROM fashion_products;\"\n",
        "\n"
      ],
      "metadata": {
        "id": "g22Qzft2XTWw"
      },
      "execution_count": 9,
      "outputs": []
    },
    {
      "cell_type": "code",
      "source": [
        "sql_query = get_row_count('/content/fashion_db.sqlite')\n",
        "sql_query\n",
        "# To execute the query use the read_sql_query function from previous code.\n",
        "read_sql_query(sql_query, 'fashion_db.sqlite')"
      ],
      "metadata": {
        "id": "sNPZj5FLX65a",
        "outputId": "2150a1f3-848c-44db-9dd4-0a1616d8b137",
        "colab": {
          "base_uri": "https://localhost:8080/",
          "height": 297
        }
      },
      "execution_count": 16,
      "outputs": [
        {
          "output_type": "error",
          "ename": "OperationalError",
          "evalue": "no such table: fashion_products",
          "traceback": [
            "\u001b[0;31m---------------------------------------------------------------------------\u001b[0m",
            "\u001b[0;31mOperationalError\u001b[0m                          Traceback (most recent call last)",
            "\u001b[0;32m<ipython-input-16-088cdf0ad9c5>\u001b[0m in \u001b[0;36m<cell line: 0>\u001b[0;34m()\u001b[0m\n\u001b[1;32m      2\u001b[0m \u001b[0msql_query\u001b[0m\u001b[0;34m\u001b[0m\u001b[0;34m\u001b[0m\u001b[0m\n\u001b[1;32m      3\u001b[0m \u001b[0;31m# To execute the query use the read_sql_query function from previous code.\u001b[0m\u001b[0;34m\u001b[0m\u001b[0;34m\u001b[0m\u001b[0m\n\u001b[0;32m----> 4\u001b[0;31m \u001b[0mread_sql_query\u001b[0m\u001b[0;34m(\u001b[0m\u001b[0msql_query\u001b[0m\u001b[0;34m,\u001b[0m \u001b[0;34m'fashion_db.sqlite'\u001b[0m\u001b[0;34m)\u001b[0m\u001b[0;34m\u001b[0m\u001b[0;34m\u001b[0m\u001b[0m\n\u001b[0m",
            "\u001b[0;32m<ipython-input-8-f55eebb330d4>\u001b[0m in \u001b[0;36mread_sql_query\u001b[0;34m(sql, db)\u001b[0m\n\u001b[1;32m      2\u001b[0m     \u001b[0mconn\u001b[0m \u001b[0;34m=\u001b[0m \u001b[0msqlite3\u001b[0m\u001b[0;34m.\u001b[0m\u001b[0mconnect\u001b[0m\u001b[0;34m(\u001b[0m\u001b[0mdb\u001b[0m\u001b[0;34m)\u001b[0m\u001b[0;34m\u001b[0m\u001b[0;34m\u001b[0m\u001b[0m\n\u001b[1;32m      3\u001b[0m     \u001b[0mcur\u001b[0m \u001b[0;34m=\u001b[0m \u001b[0mconn\u001b[0m\u001b[0;34m.\u001b[0m\u001b[0mcursor\u001b[0m\u001b[0;34m(\u001b[0m\u001b[0;34m)\u001b[0m\u001b[0;34m\u001b[0m\u001b[0;34m\u001b[0m\u001b[0m\n\u001b[0;32m----> 4\u001b[0;31m     \u001b[0mcur\u001b[0m\u001b[0;34m.\u001b[0m\u001b[0mexecute\u001b[0m\u001b[0;34m(\u001b[0m\u001b[0msql\u001b[0m\u001b[0;34m)\u001b[0m\u001b[0;34m\u001b[0m\u001b[0;34m\u001b[0m\u001b[0m\n\u001b[0m\u001b[1;32m      5\u001b[0m     \u001b[0mrows\u001b[0m \u001b[0;34m=\u001b[0m \u001b[0mcur\u001b[0m\u001b[0;34m.\u001b[0m\u001b[0mfetchall\u001b[0m\u001b[0;34m(\u001b[0m\u001b[0;34m)\u001b[0m\u001b[0;34m\u001b[0m\u001b[0;34m\u001b[0m\u001b[0m\n\u001b[1;32m      6\u001b[0m     \u001b[0;32mfor\u001b[0m \u001b[0mrow\u001b[0m \u001b[0;32min\u001b[0m \u001b[0mrows\u001b[0m\u001b[0;34m:\u001b[0m\u001b[0;34m\u001b[0m\u001b[0;34m\u001b[0m\u001b[0m\n",
            "\u001b[0;31mOperationalError\u001b[0m: no such table: fashion_products"
          ]
        }
      ]
    },
    {
      "cell_type": "code",
      "source": [],
      "metadata": {
        "id": "LlxAoRldX0aY"
      },
      "execution_count": null,
      "outputs": []
    },
    {
      "cell_type": "code",
      "source": [
        "read_sql_query('SELECT * FROM fashion_products LIMIT 10;',\n",
        "               \"/content/fashion_db.sqlite\")"
      ],
      "metadata": {
        "id": "Ll2MVzJj7BFM",
        "colab": {
          "base_uri": "https://localhost:8080/",
          "height": 280
        },
        "outputId": "a1814aa3-17c8-47b5-a9fd-7aa42c8a61ed"
      },
      "execution_count": 11,
      "outputs": [
        {
          "output_type": "error",
          "ename": "OperationalError",
          "evalue": "no such table: fashion_products",
          "traceback": [
            "\u001b[0;31m---------------------------------------------------------------------------\u001b[0m",
            "\u001b[0;31mOperationalError\u001b[0m                          Traceback (most recent call last)",
            "\u001b[0;32m<ipython-input-11-6f8fd6b5e907>\u001b[0m in \u001b[0;36m<cell line: 0>\u001b[0;34m()\u001b[0m\n\u001b[0;32m----> 1\u001b[0;31m read_sql_query('SELECT * FROM fashion_products LIMIT 10;',\n\u001b[0m\u001b[1;32m      2\u001b[0m                \"fashion_db.sqlite\")\n",
            "\u001b[0;32m<ipython-input-8-f55eebb330d4>\u001b[0m in \u001b[0;36mread_sql_query\u001b[0;34m(sql, db)\u001b[0m\n\u001b[1;32m      2\u001b[0m     \u001b[0mconn\u001b[0m \u001b[0;34m=\u001b[0m \u001b[0msqlite3\u001b[0m\u001b[0;34m.\u001b[0m\u001b[0mconnect\u001b[0m\u001b[0;34m(\u001b[0m\u001b[0mdb\u001b[0m\u001b[0;34m)\u001b[0m\u001b[0;34m\u001b[0m\u001b[0;34m\u001b[0m\u001b[0m\n\u001b[1;32m      3\u001b[0m     \u001b[0mcur\u001b[0m \u001b[0;34m=\u001b[0m \u001b[0mconn\u001b[0m\u001b[0;34m.\u001b[0m\u001b[0mcursor\u001b[0m\u001b[0;34m(\u001b[0m\u001b[0;34m)\u001b[0m\u001b[0;34m\u001b[0m\u001b[0;34m\u001b[0m\u001b[0m\n\u001b[0;32m----> 4\u001b[0;31m     \u001b[0mcur\u001b[0m\u001b[0;34m.\u001b[0m\u001b[0mexecute\u001b[0m\u001b[0;34m(\u001b[0m\u001b[0msql\u001b[0m\u001b[0;34m)\u001b[0m\u001b[0;34m\u001b[0m\u001b[0;34m\u001b[0m\u001b[0m\n\u001b[0m\u001b[1;32m      5\u001b[0m     \u001b[0mrows\u001b[0m \u001b[0;34m=\u001b[0m \u001b[0mcur\u001b[0m\u001b[0;34m.\u001b[0m\u001b[0mfetchall\u001b[0m\u001b[0;34m(\u001b[0m\u001b[0;34m)\u001b[0m\u001b[0;34m\u001b[0m\u001b[0;34m\u001b[0m\u001b[0m\n\u001b[1;32m      6\u001b[0m     \u001b[0;32mfor\u001b[0m \u001b[0mrow\u001b[0m \u001b[0;32min\u001b[0m \u001b[0mrows\u001b[0m\u001b[0;34m:\u001b[0m\u001b[0;34m\u001b[0m\u001b[0;34m\u001b[0m\u001b[0m\n",
            "\u001b[0;31mOperationalError\u001b[0m: no such table: fashion_products"
          ]
        }
      ]
    },
    {
      "cell_type": "markdown",
      "source": [
        "# Define Prompt"
      ],
      "metadata": {
        "id": "D_x7H1Zarp_c"
      }
    },
    {
      "cell_type": "code",
      "source": [
        "prompt_parts_1 = [\n",
        "  \"You are an expert in converting English questions to SQL code! The SQL database has the name fashion_products and has the following columns - user_id, product_id, product_name, brand, category, price, color, and size.\\n\\nFor example,\\nExample 1 - How many entries of Adidas are present?, the SQL command will be something like this\\n``` SELECT COUNT(*) FROM fashion_products WHERE brand = 'Adidas';\\n```\\n\\nExample 2 - How many XL products of Nike are there that have a rating of more than 4?\\n```\\nSELECT COUNT(*) FROM fashion_products WHERE brand = 'Nike' AND size = 'XL' AND \\\"Rating\\\" > 4;\\n```\\n\\nExample 3 - \\n```\\nSELECT product_name FROM fashion_products WHERE price = (SELECT MAX(price) FROM fashion_products);\\n```\\n\\nDont include ``` and \\\\n in the output\",\n",
        "]"
      ],
      "metadata": {
        "id": "9HCW5Rem67k2"
      },
      "execution_count": null,
      "outputs": []
    },
    {
      "cell_type": "code",
      "source": [
        "question = \"Tell me the id of the most expensive T-shirt?\""
      ],
      "metadata": {
        "id": "5EL8iH2m7HT5"
      },
      "execution_count": null,
      "outputs": []
    },
    {
      "cell_type": "code",
      "source": [
        "prompt_parts = [prompt_parts_1[0], question]\n",
        "response = model.generate_content(prompt_parts)\n",
        "response.text"
      ],
      "metadata": {
        "id": "LjHWGGZo7HWl",
        "colab": {
          "base_uri": "https://localhost:8080/",
          "height": 52
        },
        "outputId": "d1615d4a-c1d5-4c7f-9bd1-23ea356e5c29"
      },
      "execution_count": null,
      "outputs": [
        {
          "output_type": "execute_result",
          "data": {
            "text/plain": [
              "\"SELECT product_id FROM fashion_products WHERE product_name = 'T-shirt' AND price = (SELECT MAX(price) FROM fashion_products WHERE product_name = 'T-shirt');\""
            ],
            "application/vnd.google.colaboratory.intrinsic+json": {
              "type": "string"
            }
          },
          "metadata": {},
          "execution_count": 11
        }
      ]
    },
    {
      "cell_type": "code",
      "source": [
        "read_sql_query(\"\"\"SELECT product_id FROM fashion_products WHERE product_name = 'T-shirt' AND price = (SELECT MAX(price) FROM fashion_products WHERE product_name = 'T-shirt');\n",
        "\"\"\",\n",
        "               \"fashion_db.sqlite\")"
      ],
      "metadata": {
        "id": "7Z3soRRD7inu",
        "colab": {
          "base_uri": "https://localhost:8080/"
        },
        "outputId": "63b59e37-3fc9-4a4d-eb2c-2c6d86f6ffa2"
      },
      "execution_count": null,
      "outputs": [
        {
          "output_type": "stream",
          "name": "stdout",
          "text": [
            "(938,)\n"
          ]
        }
      ]
    },
    {
      "cell_type": "markdown",
      "source": [
        "# Combine it into Function"
      ],
      "metadata": {
        "id": "hqs9W479ryDx"
      }
    },
    {
      "cell_type": "code",
      "source": [
        "def generate_gemini_response(question, input_prompt):\n",
        "    prompt_parts = [input_prompt, question]\n",
        "    response = model.generate_content(prompt_parts)\n",
        "    output = read_sql_query(response.text, \"fashion_db.sqlite\")\n",
        "    return output"
      ],
      "metadata": {
        "id": "HilHC9fx7x53"
      },
      "execution_count": null,
      "outputs": []
    },
    {
      "cell_type": "code",
      "source": [
        "generate_gemini_response(\"How many products of Nike are there?\",\n",
        "                         prompt_parts_1[0])"
      ],
      "metadata": {
        "id": "RvIpKa3G8Hln",
        "colab": {
          "base_uri": "https://localhost:8080/",
          "height": 34
        },
        "outputId": "bf840785-ae83-47de-d4bb-5e84a519c4fa"
      },
      "execution_count": null,
      "outputs": [
        {
          "output_type": "stream",
          "name": "stdout",
          "text": [
            "(214,)\n"
          ]
        }
      ]
    },
    {
      "cell_type": "code",
      "source": [],
      "metadata": {
        "id": "9TRzDLNF8lyl"
      },
      "execution_count": null,
      "outputs": []
    },
    {
      "cell_type": "code",
      "source": [],
      "metadata": {
        "id": "khc_6v2G8l1b"
      },
      "execution_count": null,
      "outputs": []
    },
    {
      "cell_type": "code",
      "source": [],
      "metadata": {
        "id": "8pcZiMsx1tUM"
      },
      "execution_count": null,
      "outputs": []
    }
  ]
}